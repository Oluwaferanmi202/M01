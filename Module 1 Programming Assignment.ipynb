{
 "cells": [
  {
   "cell_type": "code",
   "execution_count": 18,
   "id": "9b876c72-40fa-47ea-ab1a-764fbeb5fa82",
   "metadata": {},
   "outputs": [
    {
     "name": "stdout",
     "output_type": "stream",
     "text": [
      "3600\n"
     ]
    }
   ],
   "source": [
    "print(60 * 60)"
   ]
  },
  {
   "cell_type": "code",
   "execution_count": 17,
   "id": "cb7eccca-4b40-4158-aaa3-db19eb9280ce",
   "metadata": {},
   "outputs": [],
   "source": [
    "seconds_per_hour = 60 * 60"
   ]
  },
  {
   "cell_type": "code",
   "execution_count": 13,
   "id": "261ee5cb-f3c6-4b57-821c-a43b66aeea1e",
   "metadata": {},
   "outputs": [
    {
     "name": "stdout",
     "output_type": "stream",
     "text": [
      "86400\n"
     ]
    }
   ],
   "source": [
    "print(seconds_per_hour * 24)"
   ]
  },
  {
   "cell_type": "code",
   "execution_count": 16,
   "id": "45d35188-e1d2-46c1-ac43-6c3b4a6849ce",
   "metadata": {},
   "outputs": [],
   "source": [
    "seconds_per_day = seconds_per_hour * 24"
   ]
  },
  {
   "cell_type": "code",
   "execution_count": 11,
   "id": "1fa01024-6cb3-4a93-ad1d-ea72c731182b",
   "metadata": {},
   "outputs": [
    {
     "name": "stdout",
     "output_type": "stream",
     "text": [
      "24.0\n"
     ]
    }
   ],
   "source": [
    "print(seconds_per_day / seconds_per_hour)"
   ]
  },
  {
   "cell_type": "code",
   "execution_count": 12,
   "id": "e9bac0be-3e59-49c1-b9e8-2876cd0f391a",
   "metadata": {},
   "outputs": [
    {
     "name": "stdout",
     "output_type": "stream",
     "text": [
      "24\n"
     ]
    }
   ],
   "source": [
    "print(seconds_per_day // seconds_per_hour) "
   ]
  }
 ],
 "metadata": {
  "kernelspec": {
   "display_name": "Python 3 (ipykernel)",
   "language": "python",
   "name": "python3"
  },
  "language_info": {
   "codemirror_mode": {
    "name": "ipython",
    "version": 3
   },
   "file_extension": ".py",
   "mimetype": "text/x-python",
   "name": "python",
   "nbconvert_exporter": "python",
   "pygments_lexer": "ipython3",
   "version": "3.12.7"
  }
 },
 "nbformat": 4,
 "nbformat_minor": 5
}
